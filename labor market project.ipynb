{
 "cells": [
  {
   "cell_type": "code",
   "execution_count": 1,
   "metadata": {},
   "outputs": [],
   "source": [
    "import os\n",
    "import numpy as np\n",
    "import pandas as pd"
   ]
  },
  {
   "cell_type": "markdown",
   "metadata": {},
   "source": [
    "# Extract Data"
   ]
  },
  {
   "cell_type": "code",
   "execution_count": 2,
   "metadata": {},
   "outputs": [],
   "source": [
    "df = pd.read_csv('Occupational_Employment_and_Wage_Statistics.csv')"
   ]
  },
  {
   "cell_type": "code",
   "execution_count": 3,
   "metadata": {},
   "outputs": [
    {
     "data": {
      "text/html": [
       "<div>\n",
       "<style scoped>\n",
       "    .dataframe tbody tr th:only-of-type {\n",
       "        vertical-align: middle;\n",
       "    }\n",
       "\n",
       "    .dataframe tbody tr th {\n",
       "        vertical-align: top;\n",
       "    }\n",
       "\n",
       "    .dataframe thead th {\n",
       "        text-align: right;\n",
       "    }\n",
       "</style>\n",
       "<table border=\"1\" class=\"dataframe\">\n",
       "  <thead>\n",
       "    <tr style=\"text-align: right;\">\n",
       "      <th></th>\n",
       "      <th>Area Type</th>\n",
       "      <th>Area</th>\n",
       "      <th>Area Name</th>\n",
       "      <th>Standard Occupational Code</th>\n",
       "      <th>Occupational Title</th>\n",
       "      <th>Employment</th>\n",
       "      <th>Mean Wage</th>\n",
       "      <th>Median Wage</th>\n",
       "      <th>Entry Wage</th>\n",
       "      <th>Experienced Wage</th>\n",
       "    </tr>\n",
       "  </thead>\n",
       "  <tbody>\n",
       "    <tr>\n",
       "      <th>0</th>\n",
       "      <td>1</td>\n",
       "      <td>36</td>\n",
       "      <td>New York State</td>\n",
       "      <td>00-0000</td>\n",
       "      <td>Total, All Occupations</td>\n",
       "      <td>9,108,930</td>\n",
       "      <td>77,445</td>\n",
       "      <td>54,276</td>\n",
       "      <td>34,849</td>\n",
       "      <td>98,743</td>\n",
       "    </tr>\n",
       "    <tr>\n",
       "      <th>1</th>\n",
       "      <td>1</td>\n",
       "      <td>36</td>\n",
       "      <td>New York State</td>\n",
       "      <td>11-0000</td>\n",
       "      <td>Management Occupations</td>\n",
       "      <td>567,480</td>\n",
       "      <td>173,530</td>\n",
       "      <td>142,285</td>\n",
       "      <td>77,836</td>\n",
       "      <td>221,378</td>\n",
       "    </tr>\n",
       "    <tr>\n",
       "      <th>2</th>\n",
       "      <td>1</td>\n",
       "      <td>36</td>\n",
       "      <td>New York State</td>\n",
       "      <td>11-1011</td>\n",
       "      <td>Chief Executives</td>\n",
       "      <td>4,910</td>\n",
       "      <td>330,808</td>\n",
       "      <td>233,777</td>\n",
       "      <td>126,304</td>\n",
       "      <td>433,060</td>\n",
       "    </tr>\n",
       "    <tr>\n",
       "      <th>3</th>\n",
       "      <td>1</td>\n",
       "      <td>36</td>\n",
       "      <td>New York State</td>\n",
       "      <td>11-1021</td>\n",
       "      <td>General and Operations Managers</td>\n",
       "      <td>212,710</td>\n",
       "      <td>160,384</td>\n",
       "      <td>126,364</td>\n",
       "      <td>64,477</td>\n",
       "      <td>208,338</td>\n",
       "    </tr>\n",
       "    <tr>\n",
       "      <th>4</th>\n",
       "      <td>1</td>\n",
       "      <td>36</td>\n",
       "      <td>New York State</td>\n",
       "      <td>11-1031</td>\n",
       "      <td>Legislators</td>\n",
       "      <td>4,530</td>\n",
       "      <td>110,711</td>\n",
       "      <td>99,645</td>\n",
       "      <td>50,788</td>\n",
       "      <td>140,674</td>\n",
       "    </tr>\n",
       "  </tbody>\n",
       "</table>\n",
       "</div>"
      ],
      "text/plain": [
       "   Area Type   Area       Area Name  Standard Occupational Code  \\\n",
       "0          1     36  New York State                     00-0000   \n",
       "1          1     36  New York State                     11-0000   \n",
       "2          1     36  New York State                     11-1011   \n",
       "3          1     36  New York State                     11-1021   \n",
       "4          1     36  New York State                     11-1031   \n",
       "\n",
       "                Occupational Title  Employment Mean Wage  Median Wage  \\\n",
       "0           Total, All Occupations   9,108,930    77,445       54,276   \n",
       "1           Management Occupations     567,480   173,530      142,285   \n",
       "2                 Chief Executives       4,910   330,808      233,777   \n",
       "3  General and Operations Managers     212,710   160,384      126,364   \n",
       "4                      Legislators       4,530   110,711       99,645   \n",
       "\n",
       "   Entry Wage  \\\n",
       "0      34,849   \n",
       "1      77,836   \n",
       "2     126,304   \n",
       "3      64,477   \n",
       "4      50,788   \n",
       "\n",
       "   Experienced Wage                                                                                                                                                                                                                                               \n",
       "0                                             98,743                                                                                                                                                                                                              \n",
       "1                                            221,378                                                                                                                                                                                                              \n",
       "2                                            433,060                                                                                                                                                                                                              \n",
       "3                                            208,338                                                                                                                                                                                                              \n",
       "4                                            140,674                                                                                                                                                                                                              "
      ]
     },
     "execution_count": 3,
     "metadata": {},
     "output_type": "execute_result"
    }
   ],
   "source": [
    "df.head()"
   ]
  },
  {
   "cell_type": "code",
   "execution_count": 4,
   "metadata": {},
   "outputs": [
    {
     "data": {
      "text/plain": [
       "(7010, 10)"
      ]
     },
     "execution_count": 4,
     "metadata": {},
     "output_type": "execute_result"
    }
   ],
   "source": [
    "df.shape"
   ]
  },
  {
   "cell_type": "markdown",
   "metadata": {},
   "source": [
    "# Data Clean"
   ]
  },
  {
   "cell_type": "code",
   "execution_count": 5,
   "metadata": {},
   "outputs": [
    {
     "data": {
      "text/plain": [
       "Area Type                                                                                                                                                                                                                                                            0\n",
       " Area                                                                                                                                                                                                                                                                0\n",
       " Area Name                                                                                                                                                                                                                                                           0\n",
       " Standard Occupational Code                                                                                                                                                                                                                                          0\n",
       " Occupational Title                                                                                                                                                                                                                                                  0\n",
       " Employment                                                                                                                                                                                                                                                       1569\n",
       "Mean Wage                                                                                                                                                                                                                                                            0\n",
       " Median Wage                                                                                                                                                                                                                                                        87\n",
       " Entry Wage                                                                                                                                                                                                                                                          0\n",
       " Experienced Wage                                                                                                                                                                                                                                                   91\n",
       "dtype: int64"
      ]
     },
     "execution_count": 5,
     "metadata": {},
     "output_type": "execute_result"
    }
   ],
   "source": [
    "missing_values = df.isna().sum()\n",
    "missing_values"
   ]
  },
  {
   "cell_type": "code",
   "execution_count": 6,
   "metadata": {},
   "outputs": [],
   "source": [
    "cleaned_data = df.dropna()"
   ]
  },
  {
   "cell_type": "code",
   "execution_count": 7,
   "metadata": {},
   "outputs": [
    {
     "data": {
      "text/plain": [
       "(5369, 10)"
      ]
     },
     "execution_count": 7,
     "metadata": {},
     "output_type": "execute_result"
    }
   ],
   "source": [
    "cleaned_data.shape"
   ]
  },
  {
   "cell_type": "code",
   "execution_count": 8,
   "metadata": {},
   "outputs": [
    {
     "data": {
      "text/plain": [
       "Area Type                                                                                                                                                                                                                                                          int64\n",
       " Area                                                                                                                                                                                                                                                              int64\n",
       " Area Name                                                                                                                                                                                                                                                        object\n",
       " Standard Occupational Code                                                                                                                                                                                                                                       object\n",
       " Occupational Title                                                                                                                                                                                                                                               object\n",
       " Employment                                                                                                                                                                                                                                                       object\n",
       "Mean Wage                                                                                                                                                                                                                                                         object\n",
       " Median Wage                                                                                                                                                                                                                                                      object\n",
       " Entry Wage                                                                                                                                                                                                                                                       object\n",
       " Experienced Wage                                                                                                                                                                                                                                                 object\n",
       "dtype: object"
      ]
     },
     "execution_count": 8,
     "metadata": {},
     "output_type": "execute_result"
    }
   ],
   "source": [
    "cleaned_data.dtypes"
   ]
  },
  {
   "cell_type": "code",
   "execution_count": 9,
   "metadata": {},
   "outputs": [],
   "source": [
    "new_cols = [i.strip() for i in cleaned_data.columns.tolist()]\n",
    "cleaned_data.columns = new_cols"
   ]
  },
  {
   "cell_type": "code",
   "execution_count": 10,
   "metadata": {},
   "outputs": [
    {
     "data": {
      "text/plain": [
       "['Area Type',\n",
       " 'Area',\n",
       " 'Area Name',\n",
       " 'Standard Occupational Code',\n",
       " 'Occupational Title',\n",
       " 'Employment',\n",
       " 'Mean Wage',\n",
       " 'Median Wage',\n",
       " 'Entry Wage',\n",
       " 'Experienced Wage']"
      ]
     },
     "execution_count": 10,
     "metadata": {},
     "output_type": "execute_result"
    }
   ],
   "source": [
    "new_cols"
   ]
  },
  {
   "cell_type": "code",
   "execution_count": 11,
   "metadata": {},
   "outputs": [],
   "source": [
    "# convert column data into whole number\n",
    "columns_to_convert = ['Employment', 'Mean Wage', 'Median Wage', 'Entry Wage', 'Experienced Wage']"
   ]
  },
  {
   "cell_type": "code",
   "execution_count": 12,
   "metadata": {},
   "outputs": [
    {
     "name": "stdout",
     "output_type": "stream",
     "text": [
      "Employment\n",
      "Mean Wage\n",
      "Median Wage\n",
      "Entry Wage\n",
      "Experienced Wage\n"
     ]
    },
    {
     "name": "stderr",
     "output_type": "stream",
     "text": [
      "/var/folders/ng/8w50yqg14d76t2g856pwdxf40000gn/T/ipykernel_7446/3229129351.py:3: SettingWithCopyWarning: \n",
      "A value is trying to be set on a copy of a slice from a DataFrame.\n",
      "Try using .loc[row_indexer,col_indexer] = value instead\n",
      "\n",
      "See the caveats in the documentation: https://pandas.pydata.org/pandas-docs/stable/user_guide/indexing.html#returning-a-view-versus-a-copy\n",
      "  cleaned_data[col] =cleaned_data[col].str.replace(',', '').astype(int)\n"
     ]
    }
   ],
   "source": [
    "for col in columns_to_convert:\n",
    "    print(col)\n",
    "    cleaned_data[col] =cleaned_data[col].str.replace(',', '').astype(int)"
   ]
  },
  {
   "cell_type": "code",
   "execution_count": 13,
   "metadata": {},
   "outputs": [
    {
     "data": {
      "text/plain": [
       "Area Type                      int64\n",
       "Area                           int64\n",
       "Area Name                     object\n",
       "Standard Occupational Code    object\n",
       "Occupational Title            object\n",
       "Employment                     int64\n",
       "Mean Wage                      int64\n",
       "Median Wage                    int64\n",
       "Entry Wage                     int64\n",
       "Experienced Wage               int64\n",
       "dtype: object"
      ]
     },
     "execution_count": 13,
     "metadata": {},
     "output_type": "execute_result"
    }
   ],
   "source": [
    "cleaned_data.dtypes  # confirm data is ready to load"
   ]
  },
  {
   "cell_type": "markdown",
   "metadata": {},
   "source": [
    "# Data Load"
   ]
  },
  {
   "cell_type": "code",
   "execution_count": 14,
   "metadata": {},
   "outputs": [],
   "source": [
    "import pymongo\n",
    "from pymongo import MongoClient"
   ]
  },
  {
   "cell_type": "code",
   "execution_count": 15,
   "metadata": {},
   "outputs": [],
   "source": [
    "# connect to MongoDB\n",
    "client = MongoClient('mongodb://localhost:27017/')\n",
    "db = client['Occupational_Employment_and_Wage_Statistics']\n",
    "collection = db['data_collection']"
   ]
  },
  {
   "cell_type": "code",
   "execution_count": 16,
   "metadata": {},
   "outputs": [],
   "source": [
    "import json\n",
    "# convert cleaned data frame to JSON format\n",
    "#json_data = cleaned_data.to_json(orient='records', force_ascii=False)\n",
    "#json_list = json.loads(json_data)\n",
    "\n",
    "# load it into database\n",
    "#collection.insert_many(json_list)"
   ]
  },
  {
   "cell_type": "code",
   "execution_count": 17,
   "metadata": {},
   "outputs": [
    {
     "data": {
      "text/plain": [
       "{'_id': ObjectId('65778c6a5be31a43448ff610'),\n",
       " 'Area Type': 1,\n",
       " 'Area': 36,\n",
       " 'Area Name': 'New York State',\n",
       " 'Standard Occupational Code': '00-0000',\n",
       " 'Occupational Title': 'Total, All Occupations',\n",
       " 'Employment': 9108930,\n",
       " 'Mean Wage': 77445,\n",
       " 'Median Wage': 54276,\n",
       " 'Entry Wage': 34849,\n",
       " 'Experienced Wage': 98743}"
      ]
     },
     "execution_count": 17,
     "metadata": {},
     "output_type": "execute_result"
    }
   ],
   "source": [
    "# test data\n",
    "collection.find_one({})"
   ]
  },
  {
   "cell_type": "markdown",
   "metadata": {},
   "source": [
    "# Start API Server"
   ]
  },
  {
   "cell_type": "code",
   "execution_count": 1,
   "metadata": {},
   "outputs": [],
   "source": [
    "from flask import Flask, request, jsonify\n",
    "import pymongo\n",
    "from pymongo import MongoClient\n",
    "\n",
    "#start API service\n",
    "app = Flask(__name__) \n",
    "\n",
    "# connect to MongoDB\n",
    "client = MongoClient('mongodb://localhost:27017/')\n",
    "db = client['Occupational_Employment_and_Wage_Statistics']\n",
    "collection = db['data_collection']\n",
    "\n",
    "\n",
    "@app.route('/api/data', methods=['GET'])\n",
    "def get_data():\n",
    "    # get data from API\n",
    "    items = list(collection.find({},{'_id':0}))\n",
    "    # return in JSON format\n",
    "    return jsonify(items)    \n",
    "\n",
    "\n",
    "@app.route('/api/data_area_employment', methods=['GET'])\n",
    "def get_data_area_employment():\n",
    "    # define pipeline\n",
    "    pipeline = [\n",
    "        {\n",
    "            '$group': {\n",
    "                '_id': '$Area',\n",
    "                'total_employment': {\n",
    "                    '$sum': '$Employment'\n",
    "                }\n",
    "            }\n",
    "        },\n",
    "        {\n",
    "            '$sort': {\n",
    "                'total_employment': -1\n",
    "            }\n",
    "        }\n",
    "    ]\n",
    "    # aggregate pipeline\n",
    "    result = collection.aggregate(pipeline)\n",
    "    return jsonify(list(result))   \n",
    "\n",
    "\n",
    "@app.route('/api/data_by_occupation', methods=['GET'])\n",
    "def get_data_by_occupation():\n",
    "    occupation_title = request.args.get('occupation_title')\n",
    "    order_by = request.args.get('order_by', 'Median Wage')\n",
    "    \n",
    "    sort_column = None\n",
    "    if order_by == 'Experienced Wage':\n",
    "        sort_column = 'Experienced Wage'\n",
    "    elif order_by == 'Median Wage':\n",
    "        sort_column = 'Median Wage'\n",
    "    elif order_by == 'Entry Wage':\n",
    "        sort_column = 'Entry Wage'\n",
    "    \n",
    "    query = {'Occupational Title': occupation_title}\n",
    "    \n",
    "    if sort_column:\n",
    "        items = list(collection.find(query, {'_id': 0}).sort(sort_column, pymongo.DESCENDING))\n",
    "    else:\n",
    "        # Handle cases where an invalid sorting column is provided\n",
    "        return jsonify({'error': 'Invalid sorting column provided'}), 400\n",
    "    \n",
    "    \n",
    "    return jsonify(items)\n",
    "\n",
    "\n",
    "\n",
    "@app.route('/api/median_wage_statistics', methods=['GET'])\n",
    "def get_median_wage_statistics():\n",
    "    area_or_occupation = request.args.get('area_or_occupation')\n",
    "    \n",
    "    if area_or_occupation == 'area':\n",
    "        # Provide median wage statistics by area\n",
    "        pipeline = [\n",
    "            {\n",
    "                '$group': {\n",
    "                    '_id': '$Area',\n",
    "                    'median_wage': {\n",
    "                        '$avg': '$Median Wage'\n",
    "                    }\n",
    "                }\n",
    "            },\n",
    "            {\n",
    "                '$sort': {\n",
    "                    'median_wage': -1\n",
    "                }\n",
    "            }\n",
    "        ]\n",
    "    else:\n",
    "        # Provide median wage statistics by occupation\n",
    "        pipeline = [\n",
    "            {\n",
    "                '$group': {\n",
    "                    '_id': '$Occupational Title',\n",
    "                    'median_wage': {\n",
    "                        '$avg': '$Median Wage'\n",
    "                    }\n",
    "                }\n",
    "            },\n",
    "            {\n",
    "                '$sort': {\n",
    "                    'median_wage': -1\n",
    "                }\n",
    "            }\n",
    "        ]\n",
    "    \n",
    "    result = collection.aggregate(pipeline)\n",
    "    return jsonify(list(result))\n",
    "\n",
    "\n",
    "# run Flask API\n",
    "if __name__ == '__main__':\n",
    "    app.run(debug=True)\n",
    "\n"
   ]
  },
  {
   "cell_type": "code",
   "execution_count": 2,
   "metadata": {},
   "outputs": [
    {
     "name": "stdout",
     "output_type": "stream",
     "text": [
      " * Serving Flask app '__main__'\n",
      " * Debug mode: on\n"
     ]
    },
    {
     "name": "stderr",
     "output_type": "stream",
     "text": [
      "WARNING: This is a development server. Do not use it in a production deployment. Use a production WSGI server instead.\n",
      " * Running on http://127.0.0.1:5000\n",
      "Press CTRL+C to quit\n",
      " * Restarting with watchdog (fsevents)\n",
      "Traceback (most recent call last):\n",
      "  File \"/Users/james/anaconda3/lib/python3.11/site-packages/ipykernel_launcher.py\", line 15, in <module>\n",
      "    from ipykernel import kernelapp as app\n",
      "  File \"/Users/james/anaconda3/lib/python3.11/site-packages/ipykernel/__init__.py\", line 5, in <module>\n",
      "    from .connect import *  # noqa\n",
      "    ^^^^^^^^^^^^^^^^^^^^^^\n",
      "  File \"/Users/james/anaconda3/lib/python3.11/site-packages/ipykernel/connect.py\", line 11, in <module>\n",
      "    import jupyter_client\n",
      "  File \"/Users/james/anaconda3/lib/python3.11/site-packages/jupyter_client/__init__.py\", line 8, in <module>\n",
      "    from .asynchronous import AsyncKernelClient  # noqa\n",
      "    ^^^^^^^^^^^^^^^^^^^^^^^^^^^^^^^^^^^^^^^^^^^\n",
      "  File \"/Users/james/anaconda3/lib/python3.11/site-packages/jupyter_client/asynchronous/__init__.py\", line 1, in <module>\n",
      "    from .client import AsyncKernelClient  # noqa\n",
      "    ^^^^^^^^^^^^^^^^^^^^^^^^^^^^^^^^^^^^^\n",
      "  File \"/Users/james/anaconda3/lib/python3.11/site-packages/jupyter_client/asynchronous/client.py\", line 8, in <module>\n",
      "    from jupyter_client.client import KernelClient\n",
      "  File \"/Users/james/anaconda3/lib/python3.11/site-packages/jupyter_client/client.py\", line 22, in <module>\n",
      "    from .connect import ConnectionFileMixin\n",
      "  File \"/Users/james/anaconda3/lib/python3.11/site-packages/jupyter_client/connect.py\", line 27, in <module>\n",
      "    from jupyter_core.paths import jupyter_data_dir\n",
      "  File \"/Users/james/anaconda3/lib/python3.11/site-packages/jupyter_core/paths.py\", line 19, in <module>\n",
      "    from pathlib import Path\n",
      "  File \"/Users/james/anaconda3/lib/python3.11/site-packages/pathlib.py\", line 10, in <module>\n",
      "    from collections import Sequence\n",
      "ImportError: cannot import name 'Sequence' from 'collections' (/Users/james/anaconda3/lib/python3.11/collections/__init__.py)\n"
     ]
    },
    {
     "ename": "SystemExit",
     "evalue": "1",
     "output_type": "error",
     "traceback": [
      "An exception has occurred, use %tb to see the full traceback.\n",
      "\u001b[0;31mSystemExit\u001b[0m\u001b[0;31m:\u001b[0m 1\n"
     ]
    },
    {
     "name": "stderr",
     "output_type": "stream",
     "text": [
      "/Users/james/anaconda3/lib/python3.11/site-packages/IPython/core/interactiveshell.py:3513: UserWarning: To exit: use 'exit', 'quit', or Ctrl-D.\n",
      "  warn(\"To exit: use 'exit', 'quit', or Ctrl-D.\", stacklevel=1)\n"
     ]
    }
   ],
   "source": [
    "app.run(debug=True)  # start server"
   ]
  },
  {
   "cell_type": "markdown",
   "metadata": {},
   "source": [
    "# API"
   ]
  },
  {
   "cell_type": "code",
   "execution_count": 18,
   "metadata": {},
   "outputs": [],
   "source": [
    "import requests"
   ]
  },
  {
   "cell_type": "markdown",
   "metadata": {},
   "source": [
    "##  data"
   ]
  },
  {
   "cell_type": "code",
   "execution_count": 8,
   "metadata": {
    "collapsed": true
   },
   "outputs": [],
   "source": [
    "# http://127.0.0.1:5000/api/data   # python app.py runserver in terminal to open server"
   ]
  },
  {
   "cell_type": "code",
   "execution_count": 19,
   "metadata": {},
   "outputs": [],
   "source": [
    "res = requests.get('http://127.0.0.1:5000/api/data')  # extract all the data"
   ]
  },
  {
   "cell_type": "code",
   "execution_count": 20,
   "metadata": {},
   "outputs": [],
   "source": [
    "df = pd.DataFrame(res.json())  # convert data into JSON format"
   ]
  },
  {
   "cell_type": "code",
   "execution_count": 21,
   "metadata": {},
   "outputs": [
    {
     "data": {
      "text/html": [
       "<div>\n",
       "<style scoped>\n",
       "    .dataframe tbody tr th:only-of-type {\n",
       "        vertical-align: middle;\n",
       "    }\n",
       "\n",
       "    .dataframe tbody tr th {\n",
       "        vertical-align: top;\n",
       "    }\n",
       "\n",
       "    .dataframe thead th {\n",
       "        text-align: right;\n",
       "    }\n",
       "</style>\n",
       "<table border=\"1\" class=\"dataframe\">\n",
       "  <thead>\n",
       "    <tr style=\"text-align: right;\">\n",
       "      <th></th>\n",
       "      <th>Area</th>\n",
       "      <th>Area Name</th>\n",
       "      <th>Area Type</th>\n",
       "      <th>Employment</th>\n",
       "      <th>Entry Wage</th>\n",
       "      <th>Experienced Wage</th>\n",
       "      <th>Mean Wage</th>\n",
       "      <th>Median Wage</th>\n",
       "      <th>Occupational Title</th>\n",
       "      <th>Standard Occupational Code</th>\n",
       "    </tr>\n",
       "  </thead>\n",
       "  <tbody>\n",
       "    <tr>\n",
       "      <th>0</th>\n",
       "      <td>36</td>\n",
       "      <td>New York State</td>\n",
       "      <td>1</td>\n",
       "      <td>9108930</td>\n",
       "      <td>34849</td>\n",
       "      <td>98743</td>\n",
       "      <td>77445</td>\n",
       "      <td>54276</td>\n",
       "      <td>Total, All Occupations</td>\n",
       "      <td>00-0000</td>\n",
       "    </tr>\n",
       "    <tr>\n",
       "      <th>1</th>\n",
       "      <td>36</td>\n",
       "      <td>New York State</td>\n",
       "      <td>1</td>\n",
       "      <td>567480</td>\n",
       "      <td>77836</td>\n",
       "      <td>221378</td>\n",
       "      <td>173530</td>\n",
       "      <td>142285</td>\n",
       "      <td>Management Occupations</td>\n",
       "      <td>11-0000</td>\n",
       "    </tr>\n",
       "    <tr>\n",
       "      <th>2</th>\n",
       "      <td>36</td>\n",
       "      <td>New York State</td>\n",
       "      <td>1</td>\n",
       "      <td>4910</td>\n",
       "      <td>126304</td>\n",
       "      <td>433060</td>\n",
       "      <td>330808</td>\n",
       "      <td>233777</td>\n",
       "      <td>Chief Executives</td>\n",
       "      <td>11-1011</td>\n",
       "    </tr>\n",
       "    <tr>\n",
       "      <th>3</th>\n",
       "      <td>36</td>\n",
       "      <td>New York State</td>\n",
       "      <td>1</td>\n",
       "      <td>212710</td>\n",
       "      <td>64477</td>\n",
       "      <td>208338</td>\n",
       "      <td>160384</td>\n",
       "      <td>126364</td>\n",
       "      <td>General and Operations Managers</td>\n",
       "      <td>11-1021</td>\n",
       "    </tr>\n",
       "    <tr>\n",
       "      <th>4</th>\n",
       "      <td>36</td>\n",
       "      <td>New York State</td>\n",
       "      <td>1</td>\n",
       "      <td>4530</td>\n",
       "      <td>50788</td>\n",
       "      <td>140674</td>\n",
       "      <td>110711</td>\n",
       "      <td>99645</td>\n",
       "      <td>Legislators</td>\n",
       "      <td>11-1031</td>\n",
       "    </tr>\n",
       "  </tbody>\n",
       "</table>\n",
       "</div>"
      ],
      "text/plain": [
       "   Area       Area Name  Area Type  Employment  Entry Wage  Experienced Wage  \\\n",
       "0    36  New York State          1     9108930       34849             98743   \n",
       "1    36  New York State          1      567480       77836            221378   \n",
       "2    36  New York State          1        4910      126304            433060   \n",
       "3    36  New York State          1      212710       64477            208338   \n",
       "4    36  New York State          1        4530       50788            140674   \n",
       "\n",
       "   Mean Wage  Median Wage               Occupational Title  \\\n",
       "0      77445        54276           Total, All Occupations   \n",
       "1     173530       142285           Management Occupations   \n",
       "2     330808       233777                 Chief Executives   \n",
       "3     160384       126364  General and Operations Managers   \n",
       "4     110711        99645                      Legislators   \n",
       "\n",
       "  Standard Occupational Code  \n",
       "0                    00-0000  \n",
       "1                    11-0000  \n",
       "2                    11-1011  \n",
       "3                    11-1021  \n",
       "4                    11-1031  "
      ]
     },
     "execution_count": 21,
     "metadata": {},
     "output_type": "execute_result"
    }
   ],
   "source": [
    "df.head()"
   ]
  },
  {
   "cell_type": "markdown",
   "metadata": {},
   "source": [
    "## pipeline"
   ]
  },
  {
   "cell_type": "code",
   "execution_count": 22,
   "metadata": {},
   "outputs": [],
   "source": [
    "res = requests.get('http://127.0.0.1:5000/api/data_area_employment')"
   ]
  },
  {
   "cell_type": "code",
   "execution_count": 23,
   "metadata": {},
   "outputs": [
    {
     "data": {
      "text/html": [
       "<div>\n",
       "<style scoped>\n",
       "    .dataframe tbody tr th:only-of-type {\n",
       "        vertical-align: middle;\n",
       "    }\n",
       "\n",
       "    .dataframe tbody tr th {\n",
       "        vertical-align: top;\n",
       "    }\n",
       "\n",
       "    .dataframe thead th {\n",
       "        text-align: right;\n",
       "    }\n",
       "</style>\n",
       "<table border=\"1\" class=\"dataframe\">\n",
       "  <thead>\n",
       "    <tr style=\"text-align: right;\">\n",
       "      <th></th>\n",
       "      <th>_id</th>\n",
       "      <th>total_employment</th>\n",
       "    </tr>\n",
       "  </thead>\n",
       "  <tbody>\n",
       "    <tr>\n",
       "      <th>0</th>\n",
       "      <td>36</td>\n",
       "      <td>27105700</td>\n",
       "    </tr>\n",
       "    <tr>\n",
       "      <th>1</th>\n",
       "      <td>7</td>\n",
       "      <td>12550250</td>\n",
       "    </tr>\n",
       "    <tr>\n",
       "      <th>2</th>\n",
       "      <td>5</td>\n",
       "      <td>3718760</td>\n",
       "    </tr>\n",
       "    <tr>\n",
       "      <th>3</th>\n",
       "      <td>4</td>\n",
       "      <td>2638190</td>\n",
       "    </tr>\n",
       "    <tr>\n",
       "      <th>4</th>\n",
       "      <td>10</td>\n",
       "      <td>1772680</td>\n",
       "    </tr>\n",
       "    <tr>\n",
       "      <th>5</th>\n",
       "      <td>3</td>\n",
       "      <td>1563000</td>\n",
       "    </tr>\n",
       "    <tr>\n",
       "      <th>6</th>\n",
       "      <td>1</td>\n",
       "      <td>1464170</td>\n",
       "    </tr>\n",
       "    <tr>\n",
       "      <th>7</th>\n",
       "      <td>2</td>\n",
       "      <td>960470</td>\n",
       "    </tr>\n",
       "    <tr>\n",
       "      <th>8</th>\n",
       "      <td>9</td>\n",
       "      <td>708830</td>\n",
       "    </tr>\n",
       "    <tr>\n",
       "      <th>9</th>\n",
       "      <td>6</td>\n",
       "      <td>521040</td>\n",
       "    </tr>\n",
       "    <tr>\n",
       "      <th>10</th>\n",
       "      <td>8</td>\n",
       "      <td>409800</td>\n",
       "    </tr>\n",
       "  </tbody>\n",
       "</table>\n",
       "</div>"
      ],
      "text/plain": [
       "    _id  total_employment\n",
       "0    36          27105700\n",
       "1     7          12550250\n",
       "2     5           3718760\n",
       "3     4           2638190\n",
       "4    10           1772680\n",
       "5     3           1563000\n",
       "6     1           1464170\n",
       "7     2            960470\n",
       "8     9            708830\n",
       "9     6            521040\n",
       "10    8            409800"
      ]
     },
     "execution_count": 23,
     "metadata": {},
     "output_type": "execute_result"
    }
   ],
   "source": [
    "df_new = pd.DataFrame(res.json())\n",
    "df_new"
   ]
  },
  {
   "cell_type": "code",
   "execution_count": 25,
   "metadata": {},
   "outputs": [
    {
     "data": {
      "text/html": [
       "<div>\n",
       "<style scoped>\n",
       "    .dataframe tbody tr th:only-of-type {\n",
       "        vertical-align: middle;\n",
       "    }\n",
       "\n",
       "    .dataframe tbody tr th {\n",
       "        vertical-align: top;\n",
       "    }\n",
       "\n",
       "    .dataframe thead th {\n",
       "        text-align: right;\n",
       "    }\n",
       "</style>\n",
       "<table border=\"1\" class=\"dataframe\">\n",
       "  <thead>\n",
       "    <tr style=\"text-align: right;\">\n",
       "      <th></th>\n",
       "      <th>_id</th>\n",
       "      <th>median_wage</th>\n",
       "    </tr>\n",
       "  </thead>\n",
       "  <tbody>\n",
       "    <tr>\n",
       "      <th>0</th>\n",
       "      <td>Emergency Medicine Physicians</td>\n",
       "      <td>241959.000000</td>\n",
       "    </tr>\n",
       "    <tr>\n",
       "      <th>1</th>\n",
       "      <td>Anesthesiologists</td>\n",
       "      <td>226573.000000</td>\n",
       "    </tr>\n",
       "    <tr>\n",
       "      <th>2</th>\n",
       "      <td>Obstetricians and Gynecologists</td>\n",
       "      <td>224979.000000</td>\n",
       "    </tr>\n",
       "    <tr>\n",
       "      <th>3</th>\n",
       "      <td>Ophthalmologists, Except Pediatric</td>\n",
       "      <td>219746.500000</td>\n",
       "    </tr>\n",
       "    <tr>\n",
       "      <th>4</th>\n",
       "      <td>Nurse Anesthetists</td>\n",
       "      <td>213904.000000</td>\n",
       "    </tr>\n",
       "    <tr>\n",
       "      <th>...</th>\n",
       "      <td>...</td>\n",
       "      <td>...</td>\n",
       "    </tr>\n",
       "    <tr>\n",
       "      <th>700</th>\n",
       "      <td>Taxi Drivers</td>\n",
       "      <td>31548.666667</td>\n",
       "    </tr>\n",
       "    <tr>\n",
       "      <th>701</th>\n",
       "      <td>Lifeguards, Ski Patrol, and Other Recreational...</td>\n",
       "      <td>31328.454545</td>\n",
       "    </tr>\n",
       "    <tr>\n",
       "      <th>702</th>\n",
       "      <td>Manicurists and Pedicurists</td>\n",
       "      <td>31295.000000</td>\n",
       "    </tr>\n",
       "    <tr>\n",
       "      <th>703</th>\n",
       "      <td>Door-to-Door Sales Workers, News and Street Ve...</td>\n",
       "      <td>31273.500000</td>\n",
       "    </tr>\n",
       "    <tr>\n",
       "      <th>704</th>\n",
       "      <td>Cooks, Fast Food</td>\n",
       "      <td>30795.100000</td>\n",
       "    </tr>\n",
       "  </tbody>\n",
       "</table>\n",
       "<p>705 rows × 2 columns</p>\n",
       "</div>"
      ],
      "text/plain": [
       "                                                   _id    median_wage\n",
       "0                        Emergency Medicine Physicians  241959.000000\n",
       "1                                    Anesthesiologists  226573.000000\n",
       "2                      Obstetricians and Gynecologists  224979.000000\n",
       "3                   Ophthalmologists, Except Pediatric  219746.500000\n",
       "4                                   Nurse Anesthetists  213904.000000\n",
       "..                                                 ...            ...\n",
       "700                                       Taxi Drivers   31548.666667\n",
       "701  Lifeguards, Ski Patrol, and Other Recreational...   31328.454545\n",
       "702                        Manicurists and Pedicurists   31295.000000\n",
       "703  Door-to-Door Sales Workers, News and Street Ve...   31273.500000\n",
       "704                                   Cooks, Fast Food   30795.100000\n",
       "\n",
       "[705 rows x 2 columns]"
      ]
     },
     "execution_count": 25,
     "metadata": {},
     "output_type": "execute_result"
    }
   ],
   "source": [
    "res = requests.get('http://127.0.0.1:5000/api/median_wage_statistics')\n",
    "df_new = pd.DataFrame(res.json())\n",
    "df_new"
   ]
  },
  {
   "cell_type": "code",
   "execution_count": 26,
   "metadata": {},
   "outputs": [
    {
     "data": {
      "text/html": [
       "<div>\n",
       "<style scoped>\n",
       "    .dataframe tbody tr th:only-of-type {\n",
       "        vertical-align: middle;\n",
       "    }\n",
       "\n",
       "    .dataframe tbody tr th {\n",
       "        vertical-align: top;\n",
       "    }\n",
       "\n",
       "    .dataframe thead th {\n",
       "        text-align: right;\n",
       "    }\n",
       "</style>\n",
       "<table border=\"1\" class=\"dataframe\">\n",
       "  <thead>\n",
       "    <tr style=\"text-align: right;\">\n",
       "      <th></th>\n",
       "      <th>_id</th>\n",
       "      <th>median_wage</th>\n",
       "    </tr>\n",
       "  </thead>\n",
       "  <tbody>\n",
       "    <tr>\n",
       "      <th>0</th>\n",
       "      <td>7</td>\n",
       "      <td>81337.891544</td>\n",
       "    </tr>\n",
       "    <tr>\n",
       "      <th>1</th>\n",
       "      <td>5</td>\n",
       "      <td>76824.005693</td>\n",
       "    </tr>\n",
       "    <tr>\n",
       "      <th>2</th>\n",
       "      <td>4</td>\n",
       "      <td>74585.808824</td>\n",
       "    </tr>\n",
       "    <tr>\n",
       "      <th>3</th>\n",
       "      <td>36</td>\n",
       "      <td>73253.590705</td>\n",
       "    </tr>\n",
       "    <tr>\n",
       "      <th>4</th>\n",
       "      <td>1</td>\n",
       "      <td>64442.816327</td>\n",
       "    </tr>\n",
       "    <tr>\n",
       "      <th>5</th>\n",
       "      <td>3</td>\n",
       "      <td>63282.789981</td>\n",
       "    </tr>\n",
       "    <tr>\n",
       "      <th>6</th>\n",
       "      <td>2</td>\n",
       "      <td>63008.571749</td>\n",
       "    </tr>\n",
       "    <tr>\n",
       "      <th>7</th>\n",
       "      <td>10</td>\n",
       "      <td>62815.691149</td>\n",
       "    </tr>\n",
       "    <tr>\n",
       "      <th>8</th>\n",
       "      <td>9</td>\n",
       "      <td>61195.087940</td>\n",
       "    </tr>\n",
       "    <tr>\n",
       "      <th>9</th>\n",
       "      <td>8</td>\n",
       "      <td>59500.496368</td>\n",
       "    </tr>\n",
       "    <tr>\n",
       "      <th>10</th>\n",
       "      <td>6</td>\n",
       "      <td>58311.108939</td>\n",
       "    </tr>\n",
       "  </tbody>\n",
       "</table>\n",
       "</div>"
      ],
      "text/plain": [
       "    _id   median_wage\n",
       "0     7  81337.891544\n",
       "1     5  76824.005693\n",
       "2     4  74585.808824\n",
       "3    36  73253.590705\n",
       "4     1  64442.816327\n",
       "5     3  63282.789981\n",
       "6     2  63008.571749\n",
       "7    10  62815.691149\n",
       "8     9  61195.087940\n",
       "9     8  59500.496368\n",
       "10    6  58311.108939"
      ]
     },
     "execution_count": 26,
     "metadata": {},
     "output_type": "execute_result"
    }
   ],
   "source": [
    "res = requests.get('http://127.0.0.1:5000/api/median_wage_statistics?area_or_occupation=area')\n",
    "df_new = pd.DataFrame(res.json())\n",
    "df_new"
   ]
  },
  {
   "cell_type": "code",
   "execution_count": 27,
   "metadata": {},
   "outputs": [
    {
     "data": {
      "text/html": [
       "<div>\n",
       "<style scoped>\n",
       "    .dataframe tbody tr th:only-of-type {\n",
       "        vertical-align: middle;\n",
       "    }\n",
       "\n",
       "    .dataframe tbody tr th {\n",
       "        vertical-align: top;\n",
       "    }\n",
       "\n",
       "    .dataframe thead th {\n",
       "        text-align: right;\n",
       "    }\n",
       "</style>\n",
       "<table border=\"1\" class=\"dataframe\">\n",
       "  <thead>\n",
       "    <tr style=\"text-align: right;\">\n",
       "      <th></th>\n",
       "      <th>Area</th>\n",
       "      <th>Area Name</th>\n",
       "      <th>Area Type</th>\n",
       "      <th>Employment</th>\n",
       "      <th>Entry Wage</th>\n",
       "      <th>Experienced Wage</th>\n",
       "      <th>Mean Wage</th>\n",
       "      <th>Median Wage</th>\n",
       "      <th>Occupational Title</th>\n",
       "      <th>Standard Occupational Code</th>\n",
       "    </tr>\n",
       "  </thead>\n",
       "  <tbody>\n",
       "    <tr>\n",
       "      <th>0</th>\n",
       "      <td>7</td>\n",
       "      <td>New York City</td>\n",
       "      <td>10</td>\n",
       "      <td>60630</td>\n",
       "      <td>101527</td>\n",
       "      <td>186721</td>\n",
       "      <td>158323</td>\n",
       "      <td>146062</td>\n",
       "      <td>Software Developers</td>\n",
       "      <td>15-1252</td>\n",
       "    </tr>\n",
       "    <tr>\n",
       "      <th>1</th>\n",
       "      <td>36</td>\n",
       "      <td>New York State</td>\n",
       "      <td>1</td>\n",
       "      <td>92040</td>\n",
       "      <td>88508</td>\n",
       "      <td>175572</td>\n",
       "      <td>146551</td>\n",
       "      <td>140280</td>\n",
       "      <td>Software Developers</td>\n",
       "      <td>15-1252</td>\n",
       "    </tr>\n",
       "    <tr>\n",
       "      <th>2</th>\n",
       "      <td>4</td>\n",
       "      <td>Hudson Valley</td>\n",
       "      <td>10</td>\n",
       "      <td>4580</td>\n",
       "      <td>85558</td>\n",
       "      <td>163600</td>\n",
       "      <td>137585</td>\n",
       "      <td>133635</td>\n",
       "      <td>Software Developers</td>\n",
       "      <td>15-1252</td>\n",
       "    </tr>\n",
       "    <tr>\n",
       "      <th>3</th>\n",
       "      <td>5</td>\n",
       "      <td>Long Island</td>\n",
       "      <td>10</td>\n",
       "      <td>6690</td>\n",
       "      <td>83101</td>\n",
       "      <td>163582</td>\n",
       "      <td>136755</td>\n",
       "      <td>135488</td>\n",
       "      <td>Software Developers</td>\n",
       "      <td>15-1252</td>\n",
       "    </tr>\n",
       "    <tr>\n",
       "      <th>4</th>\n",
       "      <td>2</td>\n",
       "      <td>Central New York</td>\n",
       "      <td>10</td>\n",
       "      <td>1780</td>\n",
       "      <td>77282</td>\n",
       "      <td>141218</td>\n",
       "      <td>119906</td>\n",
       "      <td>112984</td>\n",
       "      <td>Software Developers</td>\n",
       "      <td>15-1252</td>\n",
       "    </tr>\n",
       "    <tr>\n",
       "      <th>5</th>\n",
       "      <td>3</td>\n",
       "      <td>Finger Lakes</td>\n",
       "      <td>10</td>\n",
       "      <td>4230</td>\n",
       "      <td>73499</td>\n",
       "      <td>136523</td>\n",
       "      <td>115515</td>\n",
       "      <td>111796</td>\n",
       "      <td>Software Developers</td>\n",
       "      <td>15-1252</td>\n",
       "    </tr>\n",
       "    <tr>\n",
       "      <th>6</th>\n",
       "      <td>1</td>\n",
       "      <td>Capital Region</td>\n",
       "      <td>10</td>\n",
       "      <td>3060</td>\n",
       "      <td>72356</td>\n",
       "      <td>136021</td>\n",
       "      <td>114799</td>\n",
       "      <td>109445</td>\n",
       "      <td>Software Developers</td>\n",
       "      <td>15-1252</td>\n",
       "    </tr>\n",
       "    <tr>\n",
       "      <th>7</th>\n",
       "      <td>10</td>\n",
       "      <td>Western New York</td>\n",
       "      <td>10</td>\n",
       "      <td>2920</td>\n",
       "      <td>70876</td>\n",
       "      <td>134231</td>\n",
       "      <td>113114</td>\n",
       "      <td>109747</td>\n",
       "      <td>Software Developers</td>\n",
       "      <td>15-1252</td>\n",
       "    </tr>\n",
       "    <tr>\n",
       "      <th>8</th>\n",
       "      <td>9</td>\n",
       "      <td>Southern Tier</td>\n",
       "      <td>10</td>\n",
       "      <td>1630</td>\n",
       "      <td>68759</td>\n",
       "      <td>135822</td>\n",
       "      <td>113468</td>\n",
       "      <td>111631</td>\n",
       "      <td>Software Developers</td>\n",
       "      <td>15-1252</td>\n",
       "    </tr>\n",
       "    <tr>\n",
       "      <th>9</th>\n",
       "      <td>6</td>\n",
       "      <td>Mohawk Valley</td>\n",
       "      <td>10</td>\n",
       "      <td>630</td>\n",
       "      <td>67354</td>\n",
       "      <td>130618</td>\n",
       "      <td>109530</td>\n",
       "      <td>105462</td>\n",
       "      <td>Software Developers</td>\n",
       "      <td>15-1252</td>\n",
       "    </tr>\n",
       "    <tr>\n",
       "      <th>10</th>\n",
       "      <td>8</td>\n",
       "      <td>North Country</td>\n",
       "      <td>10</td>\n",
       "      <td>150</td>\n",
       "      <td>65674</td>\n",
       "      <td>129597</td>\n",
       "      <td>108289</td>\n",
       "      <td>107302</td>\n",
       "      <td>Software Developers</td>\n",
       "      <td>15-1252</td>\n",
       "    </tr>\n",
       "  </tbody>\n",
       "</table>\n",
       "</div>"
      ],
      "text/plain": [
       "    Area         Area Name  Area Type  Employment  Entry Wage  \\\n",
       "0      7     New York City         10       60630      101527   \n",
       "1     36    New York State          1       92040       88508   \n",
       "2      4     Hudson Valley         10        4580       85558   \n",
       "3      5       Long Island         10        6690       83101   \n",
       "4      2  Central New York         10        1780       77282   \n",
       "5      3      Finger Lakes         10        4230       73499   \n",
       "6      1    Capital Region         10        3060       72356   \n",
       "7     10  Western New York         10        2920       70876   \n",
       "8      9     Southern Tier         10        1630       68759   \n",
       "9      6     Mohawk Valley         10         630       67354   \n",
       "10     8     North Country         10         150       65674   \n",
       "\n",
       "    Experienced Wage  Mean Wage  Median Wage   Occupational Title  \\\n",
       "0             186721     158323       146062  Software Developers   \n",
       "1             175572     146551       140280  Software Developers   \n",
       "2             163600     137585       133635  Software Developers   \n",
       "3             163582     136755       135488  Software Developers   \n",
       "4             141218     119906       112984  Software Developers   \n",
       "5             136523     115515       111796  Software Developers   \n",
       "6             136021     114799       109445  Software Developers   \n",
       "7             134231     113114       109747  Software Developers   \n",
       "8             135822     113468       111631  Software Developers   \n",
       "9             130618     109530       105462  Software Developers   \n",
       "10            129597     108289       107302  Software Developers   \n",
       "\n",
       "   Standard Occupational Code  \n",
       "0                     15-1252  \n",
       "1                     15-1252  \n",
       "2                     15-1252  \n",
       "3                     15-1252  \n",
       "4                     15-1252  \n",
       "5                     15-1252  \n",
       "6                     15-1252  \n",
       "7                     15-1252  \n",
       "8                     15-1252  \n",
       "9                     15-1252  \n",
       "10                    15-1252  "
      ]
     },
     "execution_count": 27,
     "metadata": {},
     "output_type": "execute_result"
    }
   ],
   "source": [
    "res = requests.get('http://127.0.0.1:5000/api/data_by_occupation?occupation_title=Software Developers&order_by=Entry Wage')\n",
    "df_new = pd.DataFrame(res.json())\n",
    "df_new"
   ]
  },
  {
   "cell_type": "code",
   "execution_count": null,
   "metadata": {},
   "outputs": [],
   "source": []
  }
 ],
 "metadata": {
  "kernelspec": {
   "display_name": "Python 3 (ipykernel)",
   "language": "python",
   "name": "python3"
  },
  "language_info": {
   "codemirror_mode": {
    "name": "ipython",
    "version": 3
   },
   "file_extension": ".py",
   "mimetype": "text/x-python",
   "name": "python",
   "nbconvert_exporter": "python",
   "pygments_lexer": "ipython3",
   "version": "3.11.4"
  },
  "latex_envs": {
   "LaTeX_envs_menu_present": true,
   "autoclose": false,
   "autocomplete": true,
   "bibliofile": "biblio.bib",
   "cite_by": "apalike",
   "current_citInitial": 1,
   "eqLabelWithNumbers": true,
   "eqNumInitial": 1,
   "hotkeys": {
    "equation": "Ctrl-E",
    "itemize": "Ctrl-I"
   },
   "labels_anchors": false,
   "latex_user_defs": false,
   "report_style_numbering": false,
   "user_envs_cfg": false
  },
  "toc": {
   "base_numbering": 1,
   "nav_menu": {},
   "number_sections": true,
   "sideBar": true,
   "skip_h1_title": false,
   "title_cell": "Table of Contents",
   "title_sidebar": "Contents",
   "toc_cell": false,
   "toc_position": {},
   "toc_section_display": true,
   "toc_window_display": true
  }
 },
 "nbformat": 4,
 "nbformat_minor": 2
}
